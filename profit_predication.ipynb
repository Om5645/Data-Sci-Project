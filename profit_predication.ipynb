{
 "cells": [
  {
   "cell_type": "code",
   "execution_count": 39,
   "metadata": {},
   "outputs": [],
   "source": [
    "import pandas as pd\n",
    "home =2"
   ]
  },
  {
   "cell_type": "code",
   "execution_count": 40,
   "metadata": {},
   "outputs": [
    {
     "data": {
      "text/html": [
       "<div>\n",
       "<style scoped>\n",
       "    .dataframe tbody tr th:only-of-type {\n",
       "        vertical-align: middle;\n",
       "    }\n",
       "\n",
       "    .dataframe tbody tr th {\n",
       "        vertical-align: top;\n",
       "    }\n",
       "\n",
       "    .dataframe thead th {\n",
       "        text-align: right;\n",
       "    }\n",
       "</style>\n",
       "<table border=\"1\" class=\"dataframe\">\n",
       "  <thead>\n",
       "    <tr style=\"text-align: right;\">\n",
       "      <th></th>\n",
       "      <th>R&amp;D Spend</th>\n",
       "      <th>Administration</th>\n",
       "      <th>Marketing Spend</th>\n",
       "      <th>Profit</th>\n",
       "    </tr>\n",
       "  </thead>\n",
       "  <tbody>\n",
       "    <tr>\n",
       "      <th>0</th>\n",
       "      <td>165349.20</td>\n",
       "      <td>136897.80</td>\n",
       "      <td>471784.10</td>\n",
       "      <td>192261.83</td>\n",
       "    </tr>\n",
       "    <tr>\n",
       "      <th>1</th>\n",
       "      <td>162597.70</td>\n",
       "      <td>151377.59</td>\n",
       "      <td>443898.53</td>\n",
       "      <td>191792.06</td>\n",
       "    </tr>\n",
       "    <tr>\n",
       "      <th>2</th>\n",
       "      <td>153441.51</td>\n",
       "      <td>101145.55</td>\n",
       "      <td>407934.54</td>\n",
       "      <td>191050.39</td>\n",
       "    </tr>\n",
       "    <tr>\n",
       "      <th>3</th>\n",
       "      <td>144372.41</td>\n",
       "      <td>118671.85</td>\n",
       "      <td>383199.62</td>\n",
       "      <td>182901.99</td>\n",
       "    </tr>\n",
       "    <tr>\n",
       "      <th>4</th>\n",
       "      <td>142107.34</td>\n",
       "      <td>91391.77</td>\n",
       "      <td>366168.42</td>\n",
       "      <td>166187.94</td>\n",
       "    </tr>\n",
       "  </tbody>\n",
       "</table>\n",
       "</div>"
      ],
      "text/plain": [
       "   R&D Spend  Administration  Marketing Spend     Profit\n",
       "0  165349.20       136897.80        471784.10  192261.83\n",
       "1  162597.70       151377.59        443898.53  191792.06\n",
       "2  153441.51       101145.55        407934.54  191050.39\n",
       "3  144372.41       118671.85        383199.62  182901.99\n",
       "4  142107.34        91391.77        366168.42  166187.94"
      ]
     },
     "execution_count": 40,
     "metadata": {},
     "output_type": "execute_result"
    }
   ],
   "source": [
    "df =pd.read_csv(\"50_Startups.csv\")\n",
    "\n",
    "df.head()"
   ]
  },
  {
   "cell_type": "code",
   "execution_count": 41,
   "metadata": {},
   "outputs": [],
   "source": [
    "x = df.drop('Profit',axis =1)\n",
    "y = df['Profit']"
   ]
  },
  {
   "cell_type": "code",
   "execution_count": 42,
   "metadata": {},
   "outputs": [],
   "source": [
    "from sklearn.model_selection import train_test_split"
   ]
  },
  {
   "cell_type": "code",
   "execution_count": 43,
   "metadata": {},
   "outputs": [],
   "source": [
    "train_x, test_x, train_y, test_y = train_test_split(x,y, test_size=0.2, random_state=56)"
   ]
  },
  {
   "cell_type": "code",
   "execution_count": 44,
   "metadata": {},
   "outputs": [],
   "source": [
    "from sklearn.metrics import mean_squared_error, mean_absolute_error, r2_score"
   ]
  },
  {
   "cell_type": "code",
   "execution_count": 45,
   "metadata": {},
   "outputs": [],
   "source": [
    "from sklearn.linear_model import LinearRegression\n",
    "linear_reg = LinearRegression()\n",
    "\n",
    "linear_reg.fit(train_x, train_y)\n",
    "train_predict = linear_reg.predict(train_x)\n",
    "test_predict = linear_reg.predict(test_x)"
   ]
  },
  {
   "cell_type": "code",
   "execution_count": 46,
   "metadata": {},
   "outputs": [
    {
     "name": "stdout",
     "output_type": "stream",
     "text": [
      "Mean Squared Error (MSE): 82625134.50350608\n",
      "Mean Absolute Error (MAE): 7189.821723426683\n",
      "R-squared (R^2) Score: 0.9450409080030587\n"
     ]
    }
   ],
   "source": [
    "mse_test = mean_squared_error(test_y, test_predict)\n",
    "mae_test = mean_absolute_error(test_y, test_predict)\n",
    "r2_test = r2_score(test_y, test_predict)\n",
    "\n",
    "print('Mean Squared Error (MSE):', mse_test)\n",
    "print('Mean Absolute Error (MAE):', mae_test)\n",
    "print('R-squared (R^2) Score:', r2_test)"
   ]
  },
  {
   "cell_type": "code",
   "execution_count": 47,
   "metadata": {},
   "outputs": [],
   "source": [
    "from sklearn.tree import DecisionTreeRegressor\n",
    "\n",
    "# Create a Decision Tree regressor\n",
    "decision_tree_reg = DecisionTreeRegressor(random_state=56)\n",
    "\n",
    "# Train the Decision Tree regressor\n",
    "decision_tree_reg.fit(train_x, train_y)\n",
    "\n",
    "# Make predictions on the training and test sets\n",
    "train_predict_dt = decision_tree_reg.predict(train_x)\n",
    "test_predict_dt = decision_tree_reg.predict(test_x)"
   ]
  },
  {
   "cell_type": "code",
   "execution_count": 48,
   "metadata": {},
   "outputs": [
    {
     "name": "stdout",
     "output_type": "stream",
     "text": [
      "Mean Squared Error (MSE): 107028360.39833996\n",
      "Mean Absolute Error (MAE): 7955.639999999997\n",
      "R-squared (R^2) Score: 0.9288088117403966\n"
     ]
    }
   ],
   "source": [
    "mse_test_dt = mean_squared_error(test_y, test_predict_dt)\n",
    "mae_test_dt = mean_absolute_error(test_y, test_predict_dt)\n",
    "r2_test_dt = r2_score(test_y, test_predict_dt)\n",
    "\n",
    "print('Mean Squared Error (MSE):', mse_test_dt)\n",
    "print('Mean Absolute Error (MAE):', mae_test_dt)\n",
    "print('R-squared (R^2) Score:', r2_test_dt)"
   ]
  },
  {
   "cell_type": "code",
   "execution_count": 49,
   "metadata": {},
   "outputs": [],
   "source": [
    "from sklearn.ensemble import GradientBoostingRegressor\n",
    "\n",
    "# Create a Gradient Boosting regressor\n",
    "gradient_boosting_reg = GradientBoostingRegressor(random_state=56)\n",
    "\n",
    "# Train the Gradient Boosting regressor\n",
    "gradient_boosting_reg.fit(train_x, train_y)\n",
    "\n",
    "# Make predictions on the training and test sets\n",
    "train_predict_gb = gradient_boosting_reg.predict(train_x)\n",
    "test_predict_gb = gradient_boosting_reg.predict(test_x)\n"
   ]
  },
  {
   "cell_type": "code",
   "execution_count": 50,
   "metadata": {},
   "outputs": [
    {
     "name": "stdout",
     "output_type": "stream",
     "text": [
      "Mean Squared Error (MSE): 105722388.48894832\n",
      "Mean Absolute Error (MAE): 8879.91096281686\n",
      "R-squared (R^2) Score: 0.9296774945055742\n"
     ]
    }
   ],
   "source": [
    "mse_test_gb = mean_squared_error(test_y, test_predict_gb)\n",
    "mae_test_gb = mean_absolute_error(test_y, test_predict_gb)\n",
    "r2_test_gb = r2_score(test_y, test_predict_gb)\n",
    "\n",
    "print('Mean Squared Error (MSE):', mse_test_gb)\n",
    "print('Mean Absolute Error (MAE):', mae_test_gb)\n",
    "print('R-squared (R^2) Score:', r2_test_gb)"
   ]
  },
  {
   "cell_type": "code",
   "execution_count": 51,
   "metadata": {},
   "outputs": [],
   "source": [
    "from sklearn.neighbors import KNeighborsRegressor\n",
    "\n",
    "# Create a KNN regressor\n",
    "knn_reg = KNeighborsRegressor()\n",
    "\n",
    "# Train the KNN regressor\n",
    "knn_reg.fit(train_x, train_y)\n",
    "\n",
    "# Make predictions on the training and test sets\n",
    "train_predict_knn = knn_reg.predict(train_x)\n",
    "test_predict_knn = knn_reg.predict(test_x)"
   ]
  },
  {
   "cell_type": "code",
   "execution_count": 52,
   "metadata": {},
   "outputs": [
    {
     "name": "stdout",
     "output_type": "stream",
     "text": [
      "Mean Squared Error (MSE): 152952768.1744823\n",
      "Mean Absolute Error (MAE): 9746.939999999997\n",
      "R-squared (R^2) Score: 0.8982616451059273\n"
     ]
    }
   ],
   "source": [
    "mse_test_knn = mean_squared_error(test_y, test_predict_knn)\n",
    "mae_test_knn = mean_absolute_error(test_y, test_predict_knn)\n",
    "r2_test_knn = r2_score(test_y, test_predict_knn)\n",
    "\n",
    "print('Mean Squared Error (MSE):', mse_test_knn)\n",
    "print('Mean Absolute Error (MAE):', mae_test_knn)\n",
    "print('R-squared (R^2) Score:', r2_test_knn)"
   ]
  },
  {
   "cell_type": "code",
   "execution_count": 53,
   "metadata": {},
   "outputs": [
    {
     "data": {
      "text/plain": [
       "array([[165349.2, 136897.8, 471784.1]])"
      ]
     },
     "execution_count": 53,
     "metadata": {},
     "output_type": "execute_result"
    }
   ],
   "source": [
    "import numpy as np\n",
    "X = np.array([[165349.20,136897.80,471784.10]])\n",
    "X"
   ]
  },
  {
   "cell_type": "code",
   "execution_count": 54,
   "metadata": {},
   "outputs": [
    {
     "name": "stderr",
     "output_type": "stream",
     "text": [
      "c:\\Users\\omsar\\AppData\\Local\\Programs\\Python\\Python310\\lib\\site-packages\\sklearn\\base.py:464: UserWarning: X does not have valid feature names, but LinearRegression was fitted with feature names\n",
      "  warnings.warn(\n"
     ]
    },
    {
     "data": {
      "text/plain": [
       "array([194018.93382483])"
      ]
     },
     "execution_count": 54,
     "metadata": {},
     "output_type": "execute_result"
    }
   ],
   "source": [
    "y_preded_linear = linear_reg.predict(X)\n",
    "y_preded_linear"
   ]
  },
  {
   "cell_type": "code",
   "execution_count": 55,
   "metadata": {},
   "outputs": [
    {
     "name": "stderr",
     "output_type": "stream",
     "text": [
      "c:\\Users\\omsar\\AppData\\Local\\Programs\\Python\\Python310\\lib\\site-packages\\sklearn\\base.py:464: UserWarning: X does not have valid feature names, but KNeighborsRegressor was fitted with feature names\n",
      "  warnings.warn(\n"
     ]
    },
    {
     "data": {
      "text/plain": [
       "array([179656.668])"
      ]
     },
     "execution_count": 55,
     "metadata": {},
     "output_type": "execute_result"
    }
   ],
   "source": [
    "y_pred_knn=knn_reg.predict(X)\n",
    "y_pred_knn\n",
    "home =1"
   ]
  },
  {
   "cell_type": "code",
   "execution_count": 56,
   "metadata": {},
   "outputs": [],
   "source": [
    "from sklearn.ensemble import RandomForestRegressor\n",
    "\n",
    "# Create a Gradient Boosting regressor\n",
    "Random_forest_reg = RandomForestRegressor()\n",
    "\n",
    "# Train the Gradient Boosting regressor\n",
    "Random_forest_reg.fit(train_x, train_y)\n",
    "\n",
    "# Make predictions on the training and test sets\n",
    "train_predict_rf = Random_forest_reg.predict(train_x)\n",
    "test_predict_rf = Random_forest_reg.predict(test_x)\n"
   ]
  },
  {
   "cell_type": "code",
   "execution_count": 57,
   "metadata": {},
   "outputs": [
    {
     "name": "stdout",
     "output_type": "stream",
     "text": [
      "Mean Squared Error (MSE): 129470337.21713409\n",
      "Mean Absolute Error (MAE): 9334.805800000026\n",
      "R-squared (R^2) Score: 0.9138812636524115\n"
     ]
    }
   ],
   "source": [
    "mse_test_rf = mean_squared_error(test_y, test_predict_rf)\n",
    "mae_test_rf = mean_absolute_error(test_y, test_predict_rf)\n",
    "r2_test_rf = r2_score(test_y, test_predict_rf)\n",
    "\n",
    "print('Mean Squared Error (MSE):', mse_test_rf)\n",
    "print('Mean Absolute Error (MAE):', mae_test_rf)\n",
    "print('R-squared (R^2) Score:', r2_test_rf)"
   ]
  }
 ],
 "metadata": {
  "kernelspec": {
   "display_name": "Python 3",
   "language": "python",
   "name": "python3"
  },
  "language_info": {
   "codemirror_mode": {
    "name": "ipython",
    "version": 3
   },
   "file_extension": ".py",
   "mimetype": "text/x-python",
   "name": "python",
   "nbconvert_exporter": "python",
   "pygments_lexer": "ipython3",
   "version": "3.10.5"
  },
  "orig_nbformat": 4
 },
 "nbformat": 4,
 "nbformat_minor": 2
}
